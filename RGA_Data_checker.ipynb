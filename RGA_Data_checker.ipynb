{
 "cells": [
  {
   "cell_type": "code",
   "execution_count": 1,
   "id": "25fee4b2-96c6-49cf-95c0-49aeb0f3856b",
   "metadata": {
    "pycharm": {
     "name": "#%%\n"
    }
   },
   "source": [
    "from datetime import datetime\n",
    "import pandas as pd\n",
    "import numpy as np\n",
    "import sqlalchemy as sa\n",
    "import RunData.MyaData as Mya\n",
    "from RGA import *\n",
    "import plotly.graph_objects as go\n",
    "from plotly.subplots import make_subplots\n",
    "import plotly.io as pio\n",
    "pio.templates.default=\"plotly_white\"\n",
    "pio.renderers.default = 'jupyterlab'  # Alternate: 'browser' opens new browser window with plots.\n",
    "\n",
    "# There were 3 run periods for RGA\n",
    "run_sub_periods_available = [\n",
    "        (datetime(2018, 2,  5, 20, 0), datetime(2018,  2,  8, 6, 0)),\n",
    "        (datetime(2018, 9, 27,  1, 0), datetime(2018, 11, 26, 7, 0)),\n",
    "        (datetime(2019, 3, 25, 18, 0), datetime(2019,  4, 15, 6, 0))\n",
    "    ]\n",
    "\n",
    "run_sub_periods_run_numbers = [\n",
    "    (3018, 3086),\n",
    "    (4763, 5666),\n",
    "    (6608, 6783)\n",
    "]\n",
    "\n",
    "data = RunData(cache_file='RGA_x.sqlite3', sqlcache=True)\n",
    "data.debug = 2\n",
    "data.fix_bad_rcdb_start_times = True"
   ],
   "outputs": []
  },
  {
   "cell_type": "markdown",
   "id": "d53d1572-28ae-4cd8-8ea8-b961f7ad663f",
   "metadata": {
    "pycharm": {
     "name": "#%% md\n"
    }
   },
   "source": [
    "## Select the run period\n",
    "Set the selected_run_period for RGA from 0, 1 or 2."
   ]
  },
  {
   "cell_type": "code",
   "execution_count": 2,
   "id": "e5158c68-15c2-4601-a695-25080021a6ff",
   "metadata": {
    "pycharm": {
     "name": "#%%\n"
    }
   },
   "source": [
    "# Select the run period you want to inspect from 0 to 2.\n",
    "selected_run_period = 1\n",
    "print(f\"Selected data from run period {selected_run_period} \")\n",
    "print(f\"Times: {run_sub_periods_available[selected_run_period][0]:%Y-%m-%d} to {run_sub_periods_available[selected_run_period][1]:%Y-%m-%d}\")\n",
    "print(f\"Runs : {run_sub_periods_run_numbers[selected_run_period][0]} - {run_sub_periods_run_numbers[selected_run_period][1]}\")"
   ],
   "outputs": []
  },
  {
   "cell_type": "code",
   "execution_count": 3,
   "id": "59f5eb80-3f28-4f3d-8025-41a3008de6e7",
   "metadata": {
    "pycharm": {
     "name": "#%%\n"
    }
   },
   "source": [
    "setup_rundata_structures(data, runs = run_sub_periods_run_numbers[selected_run_period])"
   ],
   "outputs": []
  },
  {
   "cell_type": "markdown",
   "id": "0c255a65-8b6d-4482-818e-6e4e000328bb",
   "metadata": {
    "pycharm": {
     "name": "#%% md\n"
    }
   },
   "source": [
    "## Select the run number\n",
    "For inspecting the run parameters below, choose a run number from the available runs.\n",
    "You can either select the `i_run`, which is the nth +1 run in the data set and keep `run_number = None`, or you can set `run_number` which is the actual number of the run, but make sure this run_number is actually in the data set."
   ]
  },
  {
   "cell_type": "code",
   "execution_count": 4,
   "id": "44de7951-aa9c-4876-97f6-012970324751",
   "metadata": {
    "pycharm": {
     "name": "#%%\n"
    }
   },
   "source": [
    "print(\"Runs available in this time span:\")\n",
    "print(f\"i_run = {0:4d}  --> {data.All_Runs.iloc[0].name}\")\n",
    "print(f\"runs  = {data.All_Runs.iloc[0].name}  --> {data.All_Runs.iloc[-1].name}\")"
   ],
   "outputs": []
  },
  {
   "cell_type": "code",
   "execution_count": 13,
   "id": "19410792-947b-401b-992c-0dd65cdadf95",
   "metadata": {
    "pycharm": {
     "name": "#%%\n"
    }
   },
   "source": [
    "# Select the run you want to inspect.\n",
    "run_number = 4985\n",
    "i_run = 4000\n",
    "if run_number is None:\n",
    "    start_time = data.All_Runs.iloc[i_run].start_time\n",
    "    end_time = data.All_Runs.iloc[i_run].end_time\n",
    "    run_number = data.All_Runs.iloc[i_run].name\n",
    "else:\n",
    "    i_run = data.All_Runs.index.get_loc(run_number)\n",
    "    start_time = data.All_Runs.loc[run_number].start_time\n",
    "    end_time = data.All_Runs.loc[run_number].end_time\n",
    "           \n",
    "print(f\"Run number = {run_number} index no = {i_run} start_time = {start_time}  end_time = {end_time}\")"
   ],
   "outputs": []
  },
  {
   "cell_type": "code",
   "execution_count": 6,
   "source": [
    "rafo_times1 = pd.read_csv(\"RunSummaryinfo_F18_Inb_Earlyruns.dat\", names=[\"run_number\",\"charge\",\"t_start\",\"t_end\"], index_col=0)\n",
    "rafo_times2 = pd.read_csv(\"RunSummaryinfo_F18inbend.dat\",names=[\"run_number\",\"charge\",\"t_start\",\"t_end\"], index_col=0)\n",
    "rafo_times1[\"data_start\"] = rafo_times1.t_start.map(datetime.fromtimestamp)\n",
    "rafo_times1[\"data_end\"] = rafo_times1.t_end.map(datetime.fromtimestamp)\n",
    "rafo_times2[\"data_start\"] = rafo_times2.t_start.map(datetime.fromtimestamp)\n",
    "rafo_times2[\"data_end\"] = rafo_times2.t_end.map(datetime.fromtimestamp)\n",
    "rafo_times = pd.concat([rafo_times1, rafo_times2])\n",
    "print(f\"Runs: n={len(data.All_Runs)}  first={data.All_Runs.iloc[0].name}  last={data.All_Runs.iloc[-1].name}\")\n",
    "print(f\"Rafo: n={len(rafo_times)}  first={rafo_times.iloc[0].name}  last={rafo_times.iloc[-1].name}\")\n",
    "for rn, row in rafo_times.iterrows():\n",
    "    if rn not in data.All_Runs.index:\n",
    "        print(f\"Did not find {rn}\")"
   ],
   "metadata": {
    "collapsed": false,
    "pycharm": {
     "name": "#%%\n"
    }
   },
   "id": "1b438da1b93556c5",
   "outputs": []
  },
  {
   "cell_type": "code",
   "execution_count": 7,
   "source": [
    "data.All_Runs"
   ],
   "metadata": {
    "collapsed": false,
    "pycharm": {
     "name": "#%%\n"
    }
   },
   "id": "3b1143b52e778ba6",
   "outputs": []
  },
  {
   "cell_type": "code",
   "execution_count": 8,
   "id": "bc83b93a-c64d-45e3-9244-f49ec1b44af1",
   "metadata": {
    "pycharm": {
     "name": "#%%\n"
    }
   },
   "source": [
    " \"\"# Initialize the data for the FCUP. We get the entire period because otherwise the beam_stop_atten may be empty.\n",
    "beam_stop_atten_time, fcup_offset_time =  initialize_fcup_param(run_sub_periods_available[selected_run_period], data=data)\n",
    "#\n",
    "# If you want to get *all* the data run with 'override=True\", \n",
    "# if you also want to get it \"fresh\" from epicsweb, then run the entire data period with no_cache=True\n",
    "# Warning: This will take a bit of time!\n",
    "# beam_stop_atten_time, fcup_offset_time = initialize_fcup_param([datetime(2018, 2,  1, 0, 0),datetime(2019,  4, 15, 6, 0)], override=True, no_cache=True)\n",
    "#\n",
    "# Quickly check the sort of this data, since this was an issue before.\n",
    "print(f\"Got {len(fcup_offset_time)} points\")\n",
    "print(f\"Is monotonic? ms:{fcup_offset_time['ms'].is_monotonic} index:{fcup_offset_time.index.is_monotonic}\")\n",
    "print(f\"Is not double valued? {not np.any(np.roll(fcup_offset_time.index.values, 1) == fcup_offset_time.index.values)}\")"
   ],
   "outputs": []
  },
  {
   "cell_type": "code",
   "execution_count": 9,
   "id": "c694f62d-b9f4-44e9-9046-ee5555ec6706",
   "metadata": {
    "pycharm": {
     "name": "#%%\n"
    }
   },
   "source": [
    "# Uncomment to inspect the FCup data in a table format.\n",
    "#print(\"Beam Stop Atten:\")\n",
    "#for inx,item in beam_stop_atten_time.iterrows():\n",
    "#    print(f\"{inx:%Y-%m-%d %H:%M:%S}, {item.value:8.5f}\")\n",
    "#print(\"FCup Offset\")\n",
    "#for inx,item in fcup_offset_time.iloc[10:16].iterrows():\n",
    "#    print(f\"{inx:%Y-%m-%d %H:%M:%S}, {item.value:8.5f}\")"
   ],
   "outputs": []
  },
  {
   "cell_type": "code",
   "execution_count": 10,
   "id": "a7089b35-9706-4d88-906a-d1f75c526898",
   "metadata": {
    "pycharm": {
     "name": "#%%\n"
    }
   },
   "source": [
    "livetime = data.Mya.get(channel=\"B_DAQ:livetime\", start=start_time, end=end_time, run_number=run_number)\n",
    "livetime_pulser = data.Mya.get(channel=\"B_DAQ:livetime_pulser\", start=start_time, end=end_time, run_number=run_number)\n",
    "ipm2c21a = data.Mya.get(channel=\"IPM2C21A\", start=start_time, end=end_time, run_number=run_number)\n",
    "ipm2c24a = data.Mya.get(channel=\"IPM2C24A\", start=start_time, end=end_time, run_number=run_number)\n",
    "fcup_current = compute_fcup_current(run_number, data=data, current_channel=\"scalerS2b\")"
   ],
   "outputs": []
  },
  {
   "cell_type": "code",
   "execution_count": 32,
   "id": "b3f84855-4cbd-4909-968f-17b68d08f7d6",
   "metadata": {
    "pycharm": {
     "name": "#%%\n"
    }
   },
   "source": [
    "# np.isnan(livetime.iloc[0].value)\n",
    "def plot_trace(in_data, name, color, secondary_y=False):\n",
    "    if np.all(in_data.value.isnull()):\n",
    "        print(f\"No '{name}' data available.\")\n",
    "    else:\n",
    "        fig.add_trace(go.Scatter(x=in_data[\"time\"], y=in_data[\"value\"], name=name, line=dict(color=color)), \n",
    "                      secondary_y=secondary_y)"
   ],
   "outputs": []
  },
  {
   "cell_type": "code",
   "execution_count": 33,
   "id": "f8efa909-2012-4ba2-b8bf-4abbe8976231",
   "metadata": {
    "pycharm": {
     "name": "#%%\n"
    }
   },
   "source": [
    "max_y_epics = np.max( [ipm2c21a[\"value\"].max(), ipm2c24a[\"value\"].max()])\n",
    "fig = make_subplots(specs=[[{\"secondary_y\": True}]])\n",
    "fig.update_layout(height=600, width=1200, \n",
    "                  title=go.layout.Title(text=f\"Epics value for run {data.All_Runs.iloc[i_run].name}\", xanchor=\"left\", x=0.4),\n",
    "                  titlefont=dict(size=24),)\n",
    "plot_trace(ipm2c21a, name=\"IPM2C21A\",color=\"red\")\n",
    "plot_trace(ipm2c24a,name=\"IPM2C24A\",color=\"blue\")\n",
    "plot_trace(fcup_current,name=\"FCup current\",color=\"aqua\")\n",
    "plot_trace(livetime_pulser,\"B_DAQ:livetime_pulser\",color=\"green\", secondary_y=True)\n",
    "plot_trace(livetime,\"B_DAQ:livetime\",color=\"limegreen\", secondary_y=True)\n",
    "fig.update_xaxes(title_text=\"Date\", titlefont=dict(size=22), tickfont=dict(size=18))\n",
    "fig.update_yaxes(title_text=\"Current\", titlefont=dict(size=22),range=[0., max_y_epics*1.02], tickfont=dict(size=18))\n",
    "fig.update_yaxes(title_text=\"Livetime\", titlefont=dict(size=22),range=[0., 110.], tickfont=dict(size=18), secondary_y=True)\n",
    "fig.show()"
   ],
   "outputs": []
  },
  {
   "cell_type": "markdown",
   "id": "173caac2-f4b2-4d85-a18b-00d5d01e534e",
   "metadata": {
    "pycharm": {
     "name": "#%% md\n"
    }
   },
   "source": [
    "## FCup Calculation Values\n",
    "Inspect the values that go into the FCup current calculation. "
   ]
  },
  {
   "cell_type": "code",
   "execution_count": 34,
   "id": "1a2e04c8-d567-4ad2-bbe0-6ff96516c8e3",
   "metadata": {
    "pycharm": {
     "name": "#%%\n"
    }
   },
   "source": [
    "bsat = beam_stop_atten_time.index.get_indexer([start_time], method='nearest')\n",
    "beam_stop_atten = beam_stop_atten_time.iloc[bsat]\n",
    "\n",
    "scalerS2b = data.Mya.get(channel=\"scalerS2b\", start=start_time, end=end_time, run_number=run_number)\n",
    "\n",
    "fcup_offset = fcup_offset_time.loc[start_time:end_time]    # Get the FCup offset values.\n",
    "fcup_prepend = fcup_offset_time.iloc[fcup_offset_time.index.get_indexer([start_time], method='ffill')] # Get one more before the start_time\n",
    "fcup_prepend.index=[scalerS2b.iloc[0].time]                                                            # Reset the index of last fcup value to start_time\n",
    "fcup_offset = pd.concat([fcup_prepend,fcup_offset])                                                    # Add the one value to the list."
   ],
   "outputs": []
  },
  {
   "cell_type": "code",
   "execution_count": 35,
   "id": "fa9ef442-a24f-4432-884f-1dfaaf24ccae",
   "metadata": {
    "pycharm": {
     "name": "#%%\n"
    }
   },
   "source": [
    "fig = make_subplots(specs=[[{\"secondary_y\": True}]])\n",
    "fig.update_layout(height=600, width=1200, \n",
    "                  title=go.layout.Title(text=f\"Beam FCUP value for run {data.All_Runs.iloc[i_run].name}\", xanchor=\"left\", x=0.4),\n",
    "                  titlefont=dict(size=24),)\n",
    "fig.add_trace(go.Scatter(x=scalerS2b[\"time\"], y=scalerS2b[\"value\"], name=\"scalerS2b\", line=dict(color=\"red\")))\n",
    "fig.add_trace(go.Scatter(x=fcup_offset.index, y=fcup_offset[\"value\"], name=\"fcup_offset\", line=dict(color=\"green\"), line_shape='hv'), \n",
    "              secondary_y=True)\n",
    "#fig.add_trace(go.Scatter(x=[scalerS2b.iloc[0].time, scalerS2b.iloc[-1].time], \n",
    "#                         y=[beam_stop_atten.value.mean(),beam_stop_atten.value.mean()], name=\"IPM2C24A\", line=dict(color=\"limegreen\")),\n",
    "#                         secondary_y=True)\n",
    "fig.update_xaxes(title_text=\"Date\", titlefont=dict(size=22), tickfont=dict(size=18))\n",
    "fig.update_yaxes(title_text=\"EPICS values\", titlefont=dict(size=22), tickfont=dict(size=18))\n",
    "fig.update_yaxes(title_text=\"Fcup offset \", titlefont=dict(size=22), tickfont=dict(size=18), secondary_y=True)\n",
    "fig.add_annotation(x=0.1, y=1.1, xref='paper', yref='paper', text=f\"Beam Stop Attenuation = {float(beam_stop_atten.value)}\", showarrow=False,\n",
    "                  font=dict(family=\"Times New Roman\", size=20, color=\"green\"))\n",
    "fig.show()"
   ],
   "outputs": []
  },
  {
   "cell_type": "code",
   "execution_count": 36,
   "id": "6e6e9cbc-dfb8-48fe-b15b-b2ec829a56be",
   "metadata": {
    "pycharm": {
     "name": "#%%\n"
    }
   },
   "source": [
    "data.debug=1\n",
    "data.add_current_cor(run_number, current_channel=\"IPM2C21A\")\n",
    "data.add_current_cor(run_number, current_channel=\"IPM2C24A\")\n",
    "current = compute_fcup_current(run_number, data=data, current_channel=\"scalerS2b\")\n",
    "compute_fcup_current_livetime_correction(run_number, current=current, data=data)\n",
    "data.All_Runs.loc[run_number:run_number, [\"start_time\",\"end_time\", \"B_DAQ:livetime_pulser\", \"Fcup_charge\", \"Fcup_charge_corr\", \"IPM2C21A_corr\", \"IPM2C24A_corr\"]]"
   ],
   "outputs": []
  },
  {
   "cell_type": "markdown",
   "id": "5e8047c5-9981-4f97-92f7-eb048135d4e4",
   "metadata": {
    "pycharm": {
     "name": "#%% md\n"
    }
   },
   "source": [
    "## Check the FCup Sparsification routines\n",
    "This checks if we are getting the FCup data correctly. To do so, we need to get the entire set of fcup_offset data, without the sparsification. This will take a bit of time to load, especially if it is not available in the cache, or if you add no_cache=True. In that case, it will fetch 1M data points from epicsweb.\n",
    "\n",
    "There is no need to run these cells, unless you want to double check the input to the cells in the graph above."
   ]
  },
  {
   "cell_type": "code",
   "execution_count": 18,
   "id": "8241e719-cfda-4acd-a6db-c54fb1be23b3",
   "metadata": {
    "pycharm": {
     "name": "#%%\n"
    }
   },
   "source": [
    "beam_stop_atten_time, fcup_offset_time = initialize_fcup_param([datetime(2018, 2,  1, 0, 0),datetime(2019,  4, 15, 6, 0)], data=data, override=True)"
   ],
   "outputs": []
  },
  {
   "cell_type": "code",
   "execution_count": 19,
   "id": "cedfe0e2-88e1-4092-9410-9c3e4a8045af",
   "metadata": {
    "pycharm": {
     "name": "#%%\n"
    }
   },
   "source": [
    "# Test of fcup_offset sparsification\n",
    "# First: Get an index for the fcup_offset at each time for the scalerS2b where there is beam: value>600, finding the previous fcup_offset value.\n",
    "fcup_offset_indexes = fcup_offset_time.index.get_indexer(scalerS2b[scalerS2b.value>1000].time.to_list(), method=\"ffill\")\n",
    "# Make a new dataframe of all these fcup_offset, dropping ones with duplicate values.\n",
    "fcup_offset_sparse_tmp = fcup_offset_time.iloc[fcup_offset_indexes]\n",
    "fcup_offset_sparse = pd.concat([fcup_offset_sparse_tmp.iloc[0:1],fcup_offset_sparse_tmp[((fcup_offset_sparse_tmp.shift().value - fcup_offset_sparse_tmp.value).abs() > 0.01)]])"
   ],
   "outputs": []
  },
  {
   "cell_type": "code",
   "execution_count": 20,
   "id": "ee3136fe-59b2-461f-bc58-97ab85ac48b3",
   "metadata": {
    "pycharm": {
     "name": "#%%\n"
    }
   },
   "source": [
    "len(scalerS2b), len(fcup_offset_indexes), len(fcup_offset_sparse_tmp), len(fcup_offset_sparse)"
   ],
   "outputs": []
  },
  {
   "cell_type": "code",
   "execution_count": 21,
   "id": "9c5280fd-4dc1-412d-848b-f3c01a2d54ab",
   "metadata": {
    "pycharm": {
     "name": "#%%\n"
    }
   },
   "source": [
    "fig = make_subplots(specs=[[{\"secondary_y\": True}]])\n",
    "fig.update_layout(height=600, width=1200, \n",
    "                  title=go.layout.Title(text=f\"Beam FCUP value for run {data.All_Runs.iloc[i_run].name}\", xanchor=\"left\", x=0.4),\n",
    "                  titlefont=dict(size=24),)\n",
    "fig.add_trace(go.Scatter(x=scalerS2b[\"time\"], y=scalerS2b[\"value\"], name=\"scalerS2b\", line=dict(color=\"red\")))\n",
    "fig.add_trace(go.Scatter(x=fcup_offset.index, y=fcup_offset[\"value\"], name=\"fcup_offset\", line=dict(color=\"green\"), line_shape='hv'), \n",
    "              secondary_y=True)\n",
    "fig.add_trace(go.Scatter(x=fcup_offset_sparse_tmp.index, y=fcup_offset_sparse_tmp[\"value\"], name=\"fcup_offset\", line=dict(color=\"yellow\"), line_shape='hv'), \n",
    "              secondary_y=True)\n",
    "fig.add_trace(go.Scatter(x=fcup_offset_sparse.index, y=fcup_offset_sparse[\"value\"], name=\"fcup_offset_sparse\", line=dict(color=\"limegreen\"), line_shape='hv'), \n",
    "              secondary_y=True)\n",
    "#fig.add_trace(go.Scatter(x=[scalerS2b.iloc[0].time, scalerS2b.iloc[-1].time], \n",
    "#                         y=[beam_stop_atten.value.mean(),beam_stop_atten.value.mean()], name=\"IPM2C24A\", line=dict(color=\"limegreen\")),\n",
    "#                         secondary_y=True)\n",
    "fig.update_xaxes(title_text=\"Date\", titlefont=dict(size=22), tickfont=dict(size=18))\n",
    "fig.update_yaxes(title_text=\"EPICS values\", titlefont=dict(size=22), tickfont=dict(size=18))\n",
    "#fig.update_yaxes(title_text=\"Livetime\", titlefont=dict(size=22),range=[0., 110.], tickfont=dict(size=18), secondary_y=True)\n",
    "fig.add_annotation(x=0.1, y=1.1, xref='paper', yref='paper', text=f\"Beam Stop Attenuation = {float(beam_stop_atten.value)}\", showarrow=False,\n",
    "                  font=dict(family=\"Times New Roman\", size=20, color=\"green\"))\n",
    "fig.show()"
   ],
   "outputs": []
  },
  {
   "cell_type": "code",
   "execution_count": 12,
   "source": [
    "livetime_pulser"
   ],
   "metadata": {
    "collapsed": false,
    "pycharm": {
     "name": "#%%\n"
    }
   },
   "id": "f9def2c3932f9730",
   "outputs": []
  },
  {
   "cell_type": "code",
   "execution_count": null,
   "source": [],
   "metadata": {
    "collapsed": false,
    "pycharm": {
     "name": "#%%\n"
    }
   },
   "id": "acc8370b223183e1",
   "outputs": []
  }
 ],
 "metadata": {
  "kernelspec": {
   "display_name": "Python 3 (ipykernel)",
   "language": "python",
   "name": "python3"
  },
  "language_info": {
   "codemirror_mode": {
    "name": "ipython",
    "version": 3
   },
   "file_extension": ".py",
   "mimetype": "text/x-python",
   "name": "python",
   "nbconvert_exporter": "python",
   "pygments_lexer": "ipython3",
   "version": "3.9.10"
  }
 },
 "nbformat": 4,
 "nbformat_minor": 5
}
